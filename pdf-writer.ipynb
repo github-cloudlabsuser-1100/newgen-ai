{
 "cells": [
  {
   "cell_type": "code",
   "execution_count": 1,
   "id": "902cbf66",
   "metadata": {},
   "outputs": [
    {
     "name": "stdout",
     "output_type": "stream",
     "text": [
      "Requirement already satisfied: reportlab in c:\\users\\nitins\\anaconda3\\lib\\site-packages (4.0.7)\n",
      "Requirement already satisfied: pillow>=9.0.0 in c:\\users\\nitins\\anaconda3\\lib\\site-packages (from reportlab) (9.2.0)\n",
      "Note: you may need to restart the kernel to use updated packages.\n"
     ]
    }
   ],
   "source": [
    "pip install reportlab"
   ]
  },
  {
   "cell_type": "code",
   "execution_count": 18,
   "id": "20cde2c5",
   "metadata": {},
   "outputs": [],
   "source": [
    "from reportlab.lib.pagesizes import letter\n",
    "from reportlab.lib import colors\n",
    "from reportlab.platypus import SimpleDocTemplate, Paragraph, Spacer, Image, Frame, PageTemplate\n",
    "from reportlab.lib.styles import getSampleStyleSheet, ParagraphStyle\n",
    "from reportlab.lib.units import inch"
   ]
  },
  {
   "cell_type": "code",
   "execution_count": 11,
   "id": "8f69c349",
   "metadata": {},
   "outputs": [],
   "source": [
    "def write_pdf():\n",
    "    # Read content from text file and split into sections\n",
    "    with open('openai_response.txt', 'r') as file:\n",
    "        sections = file.read().split('\\n\\n')\n",
    "\n",
    "    # Create a custom style with a border\n",
    "    border_style = ParagraphStyle(\n",
    "        name='Border',\n",
    "        borderPadding=5,\n",
    "        borderWidth=1,\n",
    "        borderColor=colors.black,\n",
    "    )\n",
    "\n",
    "    # Create a PDF document\n",
    "    doc = SimpleDocTemplate(\"report-lab_output.pdf\", pagesize=letter)\n",
    "\n",
    "    # Define styles\n",
    "    styles = getSampleStyleSheet()\n",
    "    normal_style = styles[\"Normal\"]\n",
    "    bordered_style = styles.add(border_style)\n",
    "\n",
    "    # Add logo\n",
    "#     logo = \"logo.png\"\n",
    "\n",
    "    # Add content to PDF\n",
    "    content_elements = []\n",
    "#     content_elements.append(Image(logo, 1 * inch, 10 * inch))  # Adjust position as needed\n",
    "    content_elements.append(Spacer(1, 12))\n",
    "\n",
    "    # Add sections with bold headings\n",
    "    for section in sections:\n",
    "        if section.strip():  # Skip empty sections\n",
    "            heading, content = section.split(':', 1)\n",
    "            content_elements.append(Paragraph('<b>{}</b>'.format(heading.strip()), styles[\"Heading1\"]))\n",
    "            content_elements.append(Paragraph(content.strip(), bordered_style))\n",
    "            content_elements.append(Spacer(1, 12))\n",
    "\n",
    "    doc.build(content_elements)\n"
   ]
  },
  {
   "cell_type": "code",
   "execution_count": 42,
   "id": "1b276896",
   "metadata": {},
   "outputs": [],
   "source": [
    "write_pdf()"
   ]
  },
  {
   "cell_type": "code",
   "execution_count": 41,
   "id": "e2a1b293",
   "metadata": {},
   "outputs": [],
   "source": [
    "def write_pdf():\n",
    "    # Read content from text file and split into sections\n",
    "    with open('openai_response.txt', 'r') as file:\n",
    "        sections = file.read().split('\\n\\n')\n",
    "\n",
    "    # Create a custom style with a border\n",
    "    border_style = ParagraphStyle(\n",
    "        name='Border',\n",
    "        borderPadding=5,\n",
    "        borderWidth=1,\n",
    "        borderColor=colors.black,\n",
    "    )\n",
    "\n",
    "    # Create a PDF document\n",
    "    doc = SimpleDocTemplate(\"1111output.pdf\", pagesize=letter)\n",
    "\n",
    "    # Define styles\n",
    "    styles = getSampleStyleSheet()\n",
    "    normal_style = styles[\"Normal\"]\n",
    "    bordered_style = styles.add(border_style)\n",
    "\n",
    "    # Add logo\n",
    "#     logo = \"logo.png\"\n",
    "\n",
    "    # Add content to PDF\n",
    "    content_elements = []\n",
    "#     content_elements.append(Image(logo, 1 * inch, 10 * inch))  # Adjust position as needed\n",
    "    content_elements.append(Spacer(1, 12))\n",
    "    \n",
    "    # Add Title\n",
    "    title_style = ParagraphStyle(\n",
    "        name='Title',\n",
    "        fontSize=18,\n",
    "        underline=1\n",
    "    )\n",
    "    content_elements.append(Paragraph('<b>New Gen AI - Analysis report</b>', title_style))\n",
    "    content_elements.append(Spacer(1, 12))\n",
    "    \n",
    "    # Add Subtitle\n",
    "    subtitle_style = ParagraphStyle(\n",
    "        name='Subtitle',\n",
    "        fontSize=16,\n",
    "        underline=1\n",
    "    )\n",
    "    content_elements.append(Paragraph('<b>VB Financial report</b>', subtitle_style))\n",
    "\n",
    "    # Add spacer between title and sections\n",
    "    content_elements.append(Spacer(1, 50))\n",
    "\n",
    "\n",
    "    # Add sections with bold headings\n",
    "    for section in sections:\n",
    "        if section.strip():  # Skip empty sections\n",
    "            heading, content = section.split(':', 1)\n",
    "            content_elements.append(Paragraph('<b>{}</b>'.format(heading.strip()), styles[\"Heading1\"]))\n",
    "            content_elements.append(Paragraph(content.strip(), bordered_style))\n",
    "            content_elements.append(Spacer(1, 12))\n",
    "\n",
    "    doc.build(content_elements)"
   ]
  },
  {
   "cell_type": "code",
   "execution_count": null,
   "id": "474d44e3",
   "metadata": {},
   "outputs": [],
   "source": []
  }
 ],
 "metadata": {
  "kernelspec": {
   "display_name": "Python 3 (ipykernel)",
   "language": "python",
   "name": "python3"
  },
  "language_info": {
   "codemirror_mode": {
    "name": "ipython",
    "version": 3
   },
   "file_extension": ".py",
   "mimetype": "text/x-python",
   "name": "python",
   "nbconvert_exporter": "python",
   "pygments_lexer": "ipython3",
   "version": "3.9.13"
  }
 },
 "nbformat": 4,
 "nbformat_minor": 5
}
